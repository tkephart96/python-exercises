{
 "cells": [
  {
   "attachments": {},
   "cell_type": "markdown",
   "metadata": {},
   "source": [
    "#### 1. Conditional Basics"
   ]
  },
  {
   "attachments": {},
   "cell_type": "markdown",
   "metadata": {},
   "source": [
    "a. Prompt the user for a day of the week, print out whether the day is Monday or not"
   ]
  },
  {
   "cell_type": "code",
   "execution_count": null,
   "metadata": {},
   "outputs": [],
   "source": [
    "day = input('Please enter a day of the week: ')\n",
    "day = day.lower()\n",
    "\n",
    "if day == 'mon' or day == 'monday':\n",
    "    print('It is Monday')\n",
    "else:\n",
    "    print('It is not Monday')"
   ]
  },
  {
   "attachments": {},
   "cell_type": "markdown",
   "metadata": {},
   "source": [
    "b. Prompt the user for a day of the week, print out whether the day is a weekday or a weekend"
   ]
  },
  {
   "cell_type": "code",
   "execution_count": null,
   "metadata": {},
   "outputs": [],
   "source": [
    "day = input('Please enter a day of the week: ')\n",
    "day = day.lower()\n",
    "weekend = ['sun', 'sat', 'sunday', 'saturday']\n",
    "\n",
    "if day in weekend:\n",
    "    print('It is the weekend')\n",
    "else:\n",
    "    print('It is a weekday')"
   ]
  },
  {
   "attachments": {},
   "cell_type": "markdown",
   "metadata": {},
   "source": [
    "c. Calculate a weekly paycheck, accounting for overtime pay. Create variables and make up values for:\n",
    "* The number of hours worked in one week\n",
    "* The hourly rate\n",
    "For calculating pay:\n",
    "* For working 40 hours or less, each hour is paid at the hourly rate\n",
    "* For working more than 40 hours\n",
    "    * the first 40 hours are paid at the hourly rate\n",
    "    * each hour after 40 is paid at time and a half (hourly rate * 1.5)"
   ]
  },
  {
   "cell_type": "code",
   "execution_count": null,
   "metadata": {},
   "outputs": [],
   "source": [
    "hr_rate = 35\n",
    "ot_rate = hr_rate * 1.5\n",
    "hrs_worked = 45\n",
    "ot_hrs = hrs_worked - 40\n",
    "ot_pay = ot_hrs * ot_rate\n",
    "\n",
    "if ot_hrs > 0:\n",
    "    paycheck = hr_rate * hrs_worked + ot_pay\n",
    "    print(paycheck)\n",
    "    print('including overtime')\n",
    "else:\n",
    "    paycheck = hr_rate * hrs_worked\n",
    "    print(paycheck)\n",
    "    print('no overtime')"
   ]
  },
  {
   "attachments": {},
   "cell_type": "markdown",
   "metadata": {},
   "source": [
    "#### 2. Loop basics"
   ]
  },
  {
   "attachments": {},
   "cell_type": "markdown",
   "metadata": {},
   "source": [
    "a. While\n",
    "* Create an integer variable i with a value of 5. Create a while loop that runs so long as i is less than or equal to 15. Each loop iteration, output the current value of i, then increment i by one."
   ]
  },
  {
   "cell_type": "code",
   "execution_count": null,
   "metadata": {},
   "outputs": [],
   "source": [
    "i = 5\n",
    "\n",
    "while i <= 15:\n",
    "    print(i)\n",
    "    i += 1"
   ]
  },
  {
   "attachments": {},
   "cell_type": "markdown",
   "metadata": {},
   "source": [
    "* Create a while loop that will count by 2's starting with 0 and ending at 100. Follow each number with a new line."
   ]
  },
  {
   "cell_type": "code",
   "execution_count": null,
   "metadata": {},
   "outputs": [],
   "source": [
    "i = 0\n",
    "\n",
    "while i <= 100:\n",
    "    print(i)\n",
    "    i += 2"
   ]
  },
  {
   "attachments": {},
   "cell_type": "markdown",
   "metadata": {},
   "source": [
    "* Create a while loop that starts at 2, and displays the number squared on each line while the number is less than 1,000,000. Output should equal:"
   ]
  },
  {
   "cell_type": "code",
   "execution_count": null,
   "metadata": {},
   "outputs": [],
   "source": [
    "i = 2\n",
    "\n",
    "while i <= 1_000_000:\n",
    "    print(i)\n",
    "    i **= 2"
   ]
  },
  {
   "attachments": {},
   "cell_type": "markdown",
   "metadata": {},
   "source": [
    "* Write a `while` loop that uses `print` to create the output"
   ]
  },
  {
   "cell_type": "code",
   "execution_count": null,
   "metadata": {},
   "outputs": [],
   "source": [
    "i = 100\n",
    "\n",
    "while i > 0:\n",
    "    print(i)\n",
    "    i -= 5"
   ]
  },
  {
   "attachments": {},
   "cell_type": "markdown",
   "metadata": {},
   "source": [
    "b. For Loops"
   ]
  },
  {
   "attachments": {},
   "cell_type": "markdown",
   "metadata": {},
   "source": [
    "* Write some code using a for loop that prompts the user for a number, then shows a multiplication table up through 10 for that number."
   ]
  },
  {
   "cell_type": "code",
   "execution_count": null,
   "metadata": {},
   "outputs": [],
   "source": [
    "num = int(input('Please enter a number: '))\n",
    "table = range(1, 11)\n",
    "\n",
    "for n in table:\n",
    "    m = num * n\n",
    "    # print(num, 'x', n, '=', m)\n",
    "    print(f'{num} x {n} = {m}')"
   ]
  },
  {
   "attachments": {},
   "cell_type": "markdown",
   "metadata": {},
   "source": [
    "* Create a `for` loop that uses `print` to create the output"
   ]
  },
  {
   "cell_type": "code",
   "execution_count": null,
   "metadata": {},
   "outputs": [],
   "source": [
    "nums = range(1, 10)\n",
    "\n",
    "for n in nums:\n",
    "    # n = str(n) * n\n",
    "    # print(n)\n",
    "    print(n*str(n))"
   ]
  },
  {
   "attachments": {},
   "cell_type": "markdown",
   "metadata": {},
   "source": [
    "c. `break` and `continue`"
   ]
  },
  {
   "attachments": {},
   "cell_type": "markdown",
   "metadata": {},
   "source": [
    "* Write a program that prompts the user for a positive integer. Next write a loop that prints out the numbers from the number the user entered down to 1."
   ]
  },
  {
   "cell_type": "code",
   "execution_count": null,
   "metadata": {},
   "outputs": [],
   "source": [
    "i = int(input('Please enter a positive number: '))\n",
    "\n",
    "# while i > 0:\n",
    "#     print(i)\n",
    "#     i -= 1\n",
    "#     if i == 0:\n",
    "#         break\n",
    "for i in range(i, 0, -1):\n",
    "    print(i)"
   ]
  },
  {
   "attachments": {},
   "cell_type": "markdown",
   "metadata": {},
   "source": [
    "* The `input` function can be used to prompt for input and use that input in your python code. Prompt the user to enter a positive number and write a loop that counts from 0 to that number. (Hints: note that the `input` function returns a string, so you'll need to convert this to a numeric type.)"
   ]
  },
  {
   "cell_type": "code",
   "execution_count": null,
   "metadata": {},
   "outputs": [],
   "source": [
    "n = range(int(input('Please enter a positive number: ')) + 1)\n",
    "\n",
    "for i in n:\n",
    "    print(i)"
   ]
  },
  {
   "attachments": {},
   "cell_type": "markdown",
   "metadata": {},
   "source": [
    "* Prompt the user for an odd number between 1 and 50. Use a loop and a `break` statement to continue prompting the user if they enter invalid input. (Hint: use the `isdigit` method on strings to determine this). Use a loop and the `continue` statement to output all the odd numbers between 1 and 50, except for the number the user entered."
   ]
  },
  {
   "cell_type": "code",
   "execution_count": null,
   "metadata": {},
   "outputs": [],
   "source": [
    "while True:\n",
    "    i = input('Enter an odd number between 1 and 50: ')\n",
    "    if i.isdigit() == False:\n",
    "        print('Invalid input! Input odd number between 1 and 50')\n",
    "        continue\n",
    "    i = int(i)\n",
    "    if i % 2 == 0:\n",
    "        print('Invalid input! Input odd number between 1 and 50')\n",
    "        continue\n",
    "    if i < 1 or i > 50:\n",
    "        print('Invalid input! Input odd number between 1 and 50')\n",
    "        continue\n",
    "    for n in range(1, 50, 2):\n",
    "        if n == i:\n",
    "            print(f'Yikes! Skipping number: {i}')\n",
    "            continue\n",
    "        print(n)\n",
    "    break"
   ]
  },
  {
   "attachments": {},
   "cell_type": "markdown",
   "metadata": {},
   "source": [
    "#### 3. FizzBuzz"
   ]
  },
  {
   "attachments": {},
   "cell_type": "markdown",
   "metadata": {},
   "source": [
    "One of the most common interview questions for entry-level programmers is the FizzBuzz test. Developed by Imran Ghory, the test is designed to test basic looping and conditional logic skills.\n",
    "* Write a program that prints the numbers from 1 to 100.\n",
    "* For multiples of three print \"Fizz\" instead of the number\n",
    "* For the multiples of five print \"Buzz\".\n",
    "* For numbers which are multiples of both three and five print \"FizzBuzz\"."
   ]
  },
  {
   "cell_type": "code",
   "execution_count": null,
   "metadata": {},
   "outputs": [],
   "source": [
    "for n in range(1, 101):\n",
    "    if n % 15 == 0:\n",
    "        print('FizzBuzz')\n",
    "    elif n % 5 == 0:\n",
    "        print('Buzz')\n",
    "    elif n % 3 == 0:\n",
    "        print('Fizz')\n",
    "    else:\n",
    "        print(n)"
   ]
  },
  {
   "attachments": {},
   "cell_type": "markdown",
   "metadata": {},
   "source": [
    "#### 4. Display a table of powers"
   ]
  },
  {
   "attachments": {},
   "cell_type": "markdown",
   "metadata": {},
   "source": [
    "* Prompt the user to enter an integer\n",
    "* Display a table of squares and cubes from 1 to the value entered\n",
    "* Ask if the user wants to continue\n",
    "* Assume that the user will enter valid data\n",
    "* Only continue if the user agrees to"
   ]
  },
  {
   "cell_type": "code",
   "execution_count": null,
   "metadata": {},
   "outputs": [],
   "source": [
    "while True:\n",
    "    i = int(input('What number would you like to go up to?'))\n",
    "    print('Here is your table!')\n",
    "    print('number', '| squared', '| cubed')\n",
    "    print('------', '| -------', '| -----')\n",
    "    for n in range(1, i + 1):\n",
    "        print('{:<6} | {:<7} | {:1}'.format(n, n ** 2, n ** 3))\n",
    "    cont = input('Would you like to continue? y or n')\n",
    "    if cont.lower() == 'y':\n",
    "        continue\n",
    "    break"
   ]
  },
  {
   "attachments": {},
   "cell_type": "markdown",
   "metadata": {},
   "source": [
    "#### 5. Convert given number grades into letter grades.\n",
    "* Prompt the user for a numerical grade from 0 to 100\n",
    "* Display the corresponding letter grade\n",
    "* Prompt the user to continue\n",
    "* Assume that the user will enter valid integers for the grades\n",
    "* The application should only continue if the user agrees to\n",
    "* Grade Ranges:\n",
    "    * A : 100 - 88\n",
    "    * B : 87 - 80\n",
    "    * C : 79 - 67\n",
    "    * D : 66 - 60\n",
    "    * F : 59 - 0"
   ]
  },
  {
   "cell_type": "code",
   "execution_count": null,
   "metadata": {},
   "outputs": [],
   "source": [
    "while True:\n",
    "    n = int(input('Enter grade score from 0-100: '))\n",
    "    if n > 87:\n",
    "        print('A')\n",
    "    elif n > 79:\n",
    "        print('B')\n",
    "    elif n > 66:\n",
    "        print('C')\n",
    "    elif n > 59:\n",
    "        print('D')\n",
    "    else:\n",
    "        print('F')\n",
    "    cont = input('Would you like to continue? y or n')\n",
    "    if cont.lower() == 'y':\n",
    "        continue\n",
    "    break\n",
    "\n",
    "    "
   ]
  },
  {
   "attachments": {},
   "cell_type": "markdown",
   "metadata": {},
   "source": [
    "#### 6. Create a list of dictionaries where each dictionary represents a book that you have read. Each dictionary in the list should have the keys `title`, `author`, and `genre`. Loop through the list and print out information about each book.\n",
    "* Prompt the user to enter a genre, then loop through your books list and print out the titles of all the books in that genre."
   ]
  },
  {
   "cell_type": "code",
   "execution_count": null,
   "metadata": {},
   "outputs": [],
   "source": [
    "library = [\n",
    "    dict(title='Tales of Demons and Gods', author='MadSnail', genre='Action'),\n",
    "    dict(title=\"Omniscient Reader's Viewpoint\", author='Sing-Shong', genre='Fantasy'),\n",
    "    dict(title='Overlord', author='Kugane Maruyama', genre='Fantasy')\n",
    "]\n",
    "\n",
    "for i in library:\n",
    "    print(i['title'], '-', i['author'], '-', i['genre'])"
   ]
  },
  {
   "cell_type": "code",
   "execution_count": null,
   "metadata": {},
   "outputs": [],
   "source": [
    "g = input('Choose a genre: Action or Fantasy?')\n",
    "for l in library:\n",
    "    if g == l['genre']:\n",
    "        print(l['title'])"
   ]
  },
  {
   "cell_type": "code",
   "execution_count": null,
   "metadata": {},
   "outputs": [],
   "source": []
  }
 ],
 "metadata": {
  "kernelspec": {
   "display_name": "base",
   "language": "python",
   "name": "python3"
  },
  "language_info": {
   "codemirror_mode": {
    "name": "ipython",
    "version": 3
   },
   "file_extension": ".py",
   "mimetype": "text/x-python",
   "name": "python",
   "nbconvert_exporter": "python",
   "pygments_lexer": "ipython3",
   "version": "3.9.13"
  },
  "orig_nbformat": 4
 },
 "nbformat": 4,
 "nbformat_minor": 2
}
