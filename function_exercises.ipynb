{
 "cells": [
  {
   "attachments": {},
   "cell_type": "markdown",
   "metadata": {},
   "source": [
    "#### 1. Define a function named `is_two`. It should accept one input and return `True` if the passed input is either the number or the string `2`, `False` otherwise."
   ]
  },
  {
   "cell_type": "code",
   "execution_count": null,
   "metadata": {},
   "outputs": [],
   "source": [
    "def is_two(n):\n",
    "    return int(n) == 2\n",
    "\n",
    "is_two(2)"
   ]
  },
  {
   "attachments": {},
   "cell_type": "markdown",
   "metadata": {},
   "source": [
    "#### 2. Define a function named `is_vowel`. It should return `True` if the passed string is a vowel, `False` otherwise."
   ]
  },
  {
   "cell_type": "code",
   "execution_count": null,
   "metadata": {},
   "outputs": [],
   "source": [
    "def is_vowel(i):\n",
    "    # v = ['a', 'e', 'i', 'o', 'u']\n",
    "    v = 'aeiou'\n",
    "    return type(i) == str and len(i) == 1 and i.lower() in v\n",
    "\n",
    "is_vowel('U')"
   ]
  },
  {
   "attachments": {},
   "cell_type": "markdown",
   "metadata": {},
   "source": [
    "#### 3. Define a function named `is_consonant`. It should return `True` if the passed string is a consonant, `False` otherwise. Use your `is_vowel` function to accomplish this."
   ]
  },
  {
   "cell_type": "code",
   "execution_count": null,
   "metadata": {},
   "outputs": [],
   "source": [
    "def is_consonant(i):\n",
    "    return type(i) == str and i.isalpha() == True and is_vowel(i) == False\n",
    "\n",
    "is_consonant('B')"
   ]
  },
  {
   "attachments": {},
   "cell_type": "markdown",
   "metadata": {},
   "source": [
    "#### 4. Define a function that accepts a string that is a word. The function should capitalize the first letter of the word if the word starts with a consonant."
   ]
  },
  {
   "cell_type": "code",
   "execution_count": null,
   "metadata": {},
   "outputs": [],
   "source": [
    "def cap(s):\n",
    "    if is_consonant(s[0]) == True:\n",
    "        return s.capitalize()\n",
    "\n",
    "cap('beta')"
   ]
  },
  {
   "attachments": {},
   "cell_type": "markdown",
   "metadata": {},
   "source": [
    "#### 5. Define a function named `calculate_tip`. It should accept a tip percentage (a number between 0 and 1) and the bill total, and return the amount to tip."
   ]
  },
  {
   "cell_type": "code",
   "execution_count": null,
   "metadata": {},
   "outputs": [],
   "source": [
    "def calculate_tip(tip, bill):\n",
    "    if 0 <= tip <= 1:\n",
    "        return bill + (bill * tip)\n",
    "\n",
    "calculate_tip(0.2, 100)"
   ]
  },
  {
   "attachments": {},
   "cell_type": "markdown",
   "metadata": {},
   "source": [
    "#### 6. Define a function named `apply_discount`. It should accept a original price, and a discount percentage, and return the price after the discount is applied."
   ]
  },
  {
   "cell_type": "code",
   "execution_count": null,
   "metadata": {},
   "outputs": [],
   "source": [
    "def apply_discount(discount, bill):\n",
    "    if 0 <= discount <= 1:\n",
    "        return bill - (bill * discount)\n",
    "\n",
    "apply_discount(0.2, 100)"
   ]
  },
  {
   "attachments": {},
   "cell_type": "markdown",
   "metadata": {},
   "source": [
    "#### 7. Define a function named `handle_commas`. It should accept a string that is a number that contains commas in it as input, and return a number as output.\n"
   ]
  },
  {
   "cell_type": "code",
   "execution_count": null,
   "metadata": {},
   "outputs": [],
   "source": [
    "def handle_commas(s):\n",
    "    return int(s.replace(',',''))\n",
    "# handle_commas = lambda s: int(s.replace(',',''))\n",
    "\n",
    "handle_commas('1,200,000')"
   ]
  },
  {
   "attachments": {},
   "cell_type": "markdown",
   "metadata": {},
   "source": [
    "#### 8. Define a function named `get_letter_grade`. It should accept a number and return the letter grade associated with that number (A-F)."
   ]
  },
  {
   "cell_type": "code",
   "execution_count": null,
   "metadata": {},
   "outputs": [],
   "source": [
    "def get_letter_grade(n):\n",
    "    if type(n) in [int, float]:\n",
    "        if n > 87:\n",
    "            g = 'A'\n",
    "        elif n > 79:\n",
    "            g = 'B'\n",
    "        elif n > 66:\n",
    "            g = 'C'\n",
    "        elif n > 59:\n",
    "            g = 'D'\n",
    "        else:\n",
    "            g = 'F'\n",
    "        return g\n",
    "\n",
    "get_letter_grade(99.9)"
   ]
  },
  {
   "attachments": {},
   "cell_type": "markdown",
   "metadata": {},
   "source": [
    "#### 9. Define a function named `remove_vowels` that accepts a string and returns a string with all the vowels removed.\n"
   ]
  },
  {
   "cell_type": "code",
   "execution_count": null,
   "metadata": {},
   "outputs": [],
   "source": [
    "def remove_vowels(s):\n",
    "    for c in s:\n",
    "        if is_vowel(c):\n",
    "            s = s.replace(c,'')\n",
    "    return s\n",
    "\n",
    "remove_vowels('ABabCEceDIdiNOnoQUqu')"
   ]
  },
  {
   "attachments": {},
   "cell_type": "markdown",
   "metadata": {},
   "source": [
    "#### 10. Define a function named `normalize_name`. It should accept a string and return a valid python identifier, that is:\n",
    "- anything that is not a valid python identifier should be removed\n",
    "- leading and trailing whitespace should be removed\n",
    "- everything should be lowercase\n",
    "- spaces should be replaced with underscores\n",
    "- for example:\n",
    "    - `Name` will become `name`\n",
    "    - `First Name` will become `first_name`\n",
    "    - `% Completed` will become `completed`"
   ]
  },
  {
   "cell_type": "code",
   "execution_count": 167,
   "metadata": {},
   "outputs": [
    {
     "data": {
      "text/plain": [
       "'tyler_kephart'"
      ]
     },
     "execution_count": 167,
     "metadata": {},
     "output_type": "execute_result"
    }
   ],
   "source": [
    "# def normalize_name(s):\n",
    "#     return ((s.strip()).lower()).replace(' ','_')\n",
    "def normalize_name(s):\n",
    "    s = s.strip()\n",
    "    for i in s:\n",
    "        if i in ['!','@','#','$','%']:\n",
    "            s = s.replace(i,'')\n",
    "        if s[0].isdigit() == True:\n",
    "            s = s.replace(s[0],'')\n",
    "        if is_vowel(i) == True or is_consonant(i) == True:\n",
    "            continue\n",
    "    s = ((s.strip()).replace(' ','_')).lower()\n",
    "    return s\n",
    "\n",
    "normalize_name('  %1 Tyler K@ephart      ')"
   ]
  },
  {
   "attachments": {},
   "cell_type": "markdown",
   "metadata": {},
   "source": [
    "#### 11. Write a function named `cumulative_sum` that accepts a list of numbers and returns a list that is the cumulative sum of the numbers in the list.\n",
    "- `cumulative_sum([1, 1, 1])` returns `[1, 2, 3]`\n",
    "- `cumulative_sum([1, 2, 3, 4])` returns `[1, 3, 6, 10]`"
   ]
  },
  {
   "cell_type": "code",
   "execution_count": null,
   "metadata": {},
   "outputs": [],
   "source": [
    "def cumulative_sum(ls):\n",
    "    for i in range(1, len(ls)):\n",
    "        ls[i] += ls[i-1]\n",
    "    return ls\n",
    "\n",
    "cumulative_sum([1,2,3,4])"
   ]
  },
  {
   "attachments": {},
   "cell_type": "markdown",
   "metadata": {},
   "source": [
    "#### Bonus\n",
    "1. Create a function named `twelveto24`. It should accept a string in the format `10:45am` or `4:30pm` and return a string that is the representation of the time in a 24-hour format. Bonus write a function that does the opposite."
   ]
  },
  {
   "cell_type": "code",
   "execution_count": null,
   "metadata": {},
   "outputs": [],
   "source": [
    "def twelveto24(t):\n",
    "    t = t.replace(':','')\n",
    "    if 'pm' in t:\n",
    "        t = int(t.strip('pm'))\n",
    "        if t < 1200:\n",
    "            t += 1200\n",
    "            if t >= 2400:\n",
    "                t -= 2400\n",
    "    if 'am' in t and t >= '1200am':\n",
    "        t = t.strip('12')\n",
    "    t = str(t)\n",
    "    t = t.strip('am')\n",
    "    t = ((4 - len(t)) * '0') + t\n",
    "    t = t[:2] + ':' + t[2:]\n",
    "    return t\n",
    "\n",
    "twelveto24('12:30am')\n"
   ]
  },
  {
   "cell_type": "code",
   "execution_count": null,
   "metadata": {},
   "outputs": [],
   "source": [
    "def twelvefrom24(t):\n",
    "    t = t.replace(':','')\n",
    "    if t >= '1300':\n",
    "        t = int(t) - 1200\n",
    "        t = str(t) + 'pm'\n",
    "    else:\n",
    "        t = int(t)\n",
    "        if t < 100:\n",
    "            t += 1200\n",
    "            t = str(t) + 'am'\n",
    "        elif t < 1200:\n",
    "            t = str(t) + 'am'\n",
    "        else:\n",
    "            t = str(t) + 'pm'\n",
    "    t = t[:-4] + ':' + t[-4:]\n",
    "    return t\n",
    "\n",
    "twelvefrom24('13:30')"
   ]
  },
  {
   "cell_type": "code",
   "execution_count": null,
   "metadata": {},
   "outputs": [],
   "source": []
  },
  {
   "cell_type": "code",
   "execution_count": null,
   "metadata": {},
   "outputs": [],
   "source": []
  },
  {
   "cell_type": "code",
   "execution_count": null,
   "metadata": {},
   "outputs": [],
   "source": []
  },
  {
   "cell_type": "code",
   "execution_count": null,
   "metadata": {},
   "outputs": [],
   "source": []
  }
 ],
 "metadata": {
  "kernelspec": {
   "display_name": "base",
   "language": "python",
   "name": "python3"
  },
  "language_info": {
   "codemirror_mode": {
    "name": "ipython",
    "version": 3
   },
   "file_extension": ".py",
   "mimetype": "text/x-python",
   "name": "python",
   "nbconvert_exporter": "python",
   "pygments_lexer": "ipython3",
   "version": "3.9.13"
  },
  "orig_nbformat": 4
 },
 "nbformat": 4,
 "nbformat_minor": 2
}
