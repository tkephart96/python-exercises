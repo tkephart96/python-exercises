{
 "cells": [
  {
   "cell_type": "code",
   "execution_count": 1,
   "id": "d67574a8",
   "metadata": {},
   "outputs": [
    {
     "name": "stdout",
     "output_type": "stream",
     "text": [
      "Hello, Python\n"
     ]
    }
   ],
   "source": [
    "greeting = \"Hello, Python\"\n",
    "print(greeting)"
   ]
  },
  {
   "cell_type": "code",
   "execution_count": 3,
   "id": "d4b573d8",
   "metadata": {},
   "outputs": [
    {
     "name": "stdout",
     "output_type": "stream",
     "text": [
      "13\n",
      "29\n",
      "20\n"
     ]
    }
   ],
   "source": [
    "def sum_of_squares(num, ber):\n",
    "  return (num ** 2) + (ber ** 2)\n",
    "print(sum_of_squares(3, 2))\n",
    "print(sum_of_squares(5, 2))\n",
    "print(sum_of_squares(2, 4))\n"
   ]
  },
  {
   "cell_type": "code",
   "execution_count": 7,
   "id": "d5b64551",
   "metadata": {},
   "outputs": [
    {
     "name": "stdout",
     "output_type": "stream",
     "text": [
      "{3, 5}\n",
      "{2}\n",
      "{'tomato'}\n"
     ]
    }
   ],
   "source": [
    "def get_values_in_common(li, st):\n",
    "  lst = []\n",
    "  for i in li:\n",
    "    if i in st:\n",
    "      lst.append(i)\n",
    "  return set(lst)\n",
    "print(get_values_in_common([5, 1, 2, 3], [3, 4, 5, 5]))\n",
    "print(get_values_in_common([1, 2], [2, 2, 3]))\n",
    "print(get_values_in_common([\"tomato\", \"mango\", \"kiwi\"], [\"eggplant\", \"tomato\", \"broccoli\"]))\n"
   ]
  },
  {
   "attachments": {},
   "cell_type": "markdown",
   "id": "ef20511b",
   "metadata": {},
   "source": [
    "### `control+return` \n",
    "#### execute current cell"
   ]
  },
  {
   "attachments": {},
   "cell_type": "markdown",
   "id": "99a5400b",
   "metadata": {},
   "source": [
    "### `shift+return` \n",
    "#### execute current cell and move on to next cell (will create new cell if need be)"
   ]
  },
  {
   "attachments": {},
   "cell_type": "markdown",
   "id": "210a789d",
   "metadata": {},
   "source": [
    "## personal keybind shortcut in VS Code\n",
    "### `shift+option+/` \n",
    "#### add blank cell below current cell"
   ]
  }
 ],
 "metadata": {
  "kernelspec": {
   "display_name": "base",
   "language": "python",
   "name": "python3"
  },
  "language_info": {
   "codemirror_mode": {
    "name": "ipython",
    "version": 3
   },
   "file_extension": ".py",
   "mimetype": "text/x-python",
   "name": "python",
   "nbconvert_exporter": "python",
   "pygments_lexer": "ipython3",
   "version": "3.9.13"
  }
 },
 "nbformat": 4,
 "nbformat_minor": 5
}
